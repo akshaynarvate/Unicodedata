{
  "nbformat": 4,
  "nbformat_minor": 0,
  "metadata": {
    "colab": {
      "name": "Unicodedata.ipynb",
      "provenance": []
    },
    "kernelspec": {
      "name": "python3",
      "display_name": "Python 3"
    },
    "language_info": {
      "name": "python"
    }
  },
  "cells": [
    {
      "cell_type": "markdown",
      "source": [
        "## unicodedata.lookup(name)\n"
      ],
      "metadata": {
        "id": "4htjE-Glqp5I"
      }
    },
    {
      "cell_type": "code",
      "execution_count": 2,
      "metadata": {
        "colab": {
          "base_uri": "https://localhost:8080/"
        },
        "id": "444Leohtp13X",
        "outputId": "5a01ef20-2c2b-4304-bf6d-6347839361a3"
      },
      "outputs": [
        {
          "output_type": "stream",
          "name": "stdout",
          "text": [
            "{\n",
            "}\n",
            "*\n"
          ]
        }
      ],
      "source": [
        "import unicodedata\n",
        "\n",
        "print(unicodedata.lookup(\"LEFT CURLY BRACKET\"))\n",
        "print(unicodedata.lookup(\"RIGHT CURLY BRACKET\"))\n",
        "print(unicodedata.lookup(\"ASTERISK\"))\n",
        "\n",
        "# gives error as there is \n",
        "# no symbol called ASTER\n",
        "# print(unicodedata.lookup(\"ASTER\"))"
      ]
    },
    {
      "cell_type": "markdown",
      "source": [
        "## unicodedata.name(chr[, default])"
      ],
      "metadata": {
        "id": "wwK0_OSIq6E_"
      }
    },
    {
      "cell_type": "code",
      "source": [
        "print(unicodedata.name(u\"/\"))\n",
        "print(unicodedata.name(u\"|\"))\n",
        "print(unicodedata.name(u\":\"))"
      ],
      "metadata": {
        "colab": {
          "base_uri": "https://localhost:8080/"
        },
        "id": "lvePgiAxrAuN",
        "outputId": "9a4a7c1d-8552-440b-96ae-a17a70c2fe04"
      },
      "execution_count": 3,
      "outputs": [
        {
          "output_type": "stream",
          "name": "stdout",
          "text": [
            "SOLIDUS\n",
            "VERTICAL LINE\n",
            "COLON\n"
          ]
        }
      ]
    },
    {
      "cell_type": "markdown",
      "source": [
        "## unicodedata.decimal(chr[, default])"
      ],
      "metadata": {
        "id": "z-UEl1zxrh5s"
      }
    },
    {
      "cell_type": "code",
      "source": [
        "print(unicodedata.decimal(u\"9\"))\n",
        "print(unicodedata.decimal(u\"a\"))"
      ],
      "metadata": {
        "colab": {
          "base_uri": "https://localhost:8080/",
          "height": 208
        },
        "id": "YVXLItMQrhNd",
        "outputId": "fa076865-4a2a-4a69-d12b-2da7b8177a59"
      },
      "execution_count": 4,
      "outputs": [
        {
          "output_type": "stream",
          "name": "stdout",
          "text": [
            "9\n"
          ]
        },
        {
          "output_type": "error",
          "ename": "ValueError",
          "evalue": "ignored",
          "traceback": [
            "\u001b[0;31m---------------------------------------------------------------------------\u001b[0m",
            "\u001b[0;31mValueError\u001b[0m                                Traceback (most recent call last)",
            "\u001b[0;32m<ipython-input-4-1e87c6629261>\u001b[0m in \u001b[0;36m<module>\u001b[0;34m()\u001b[0m\n\u001b[1;32m      1\u001b[0m \u001b[0mprint\u001b[0m\u001b[0;34m(\u001b[0m\u001b[0municodedata\u001b[0m\u001b[0;34m.\u001b[0m\u001b[0mdecimal\u001b[0m\u001b[0;34m(\u001b[0m\u001b[0;34mu\"9\"\u001b[0m\u001b[0;34m)\u001b[0m\u001b[0;34m)\u001b[0m\u001b[0;34m\u001b[0m\u001b[0;34m\u001b[0m\u001b[0m\n\u001b[0;32m----> 2\u001b[0;31m \u001b[0mprint\u001b[0m\u001b[0;34m(\u001b[0m\u001b[0municodedata\u001b[0m\u001b[0;34m.\u001b[0m\u001b[0mdecimal\u001b[0m\u001b[0;34m(\u001b[0m\u001b[0;34mu\"a\"\u001b[0m\u001b[0;34m)\u001b[0m\u001b[0;34m)\u001b[0m\u001b[0;34m\u001b[0m\u001b[0;34m\u001b[0m\u001b[0m\n\u001b[0m",
            "\u001b[0;31mValueError\u001b[0m: not a decimal"
          ]
        }
      ]
    },
    {
      "cell_type": "markdown",
      "source": [
        "## unicodedata.digit(chr[, default])\n"
      ],
      "metadata": {
        "id": "AkQZIVeLr-JT"
      }
    },
    {
      "cell_type": "code",
      "source": [
        "print(unicodedata.decimal(u\"9\"))\n",
        "print(unicodedata.decimal(u\"143\"))"
      ],
      "metadata": {
        "colab": {
          "base_uri": "https://localhost:8080/",
          "height": 208
        },
        "id": "rQujXimvrCIi",
        "outputId": "f985406a-8bcd-4988-a502-96cbafbe5fa4"
      },
      "execution_count": 5,
      "outputs": [
        {
          "output_type": "stream",
          "name": "stdout",
          "text": [
            "9\n"
          ]
        },
        {
          "output_type": "error",
          "ename": "TypeError",
          "evalue": "ignored",
          "traceback": [
            "\u001b[0;31m---------------------------------------------------------------------------\u001b[0m",
            "\u001b[0;31mTypeError\u001b[0m                                 Traceback (most recent call last)",
            "\u001b[0;32m<ipython-input-5-29f7ff443307>\u001b[0m in \u001b[0;36m<module>\u001b[0;34m()\u001b[0m\n\u001b[1;32m      1\u001b[0m \u001b[0mprint\u001b[0m\u001b[0;34m(\u001b[0m\u001b[0municodedata\u001b[0m\u001b[0;34m.\u001b[0m\u001b[0mdecimal\u001b[0m\u001b[0;34m(\u001b[0m\u001b[0;34mu\"9\"\u001b[0m\u001b[0;34m)\u001b[0m\u001b[0;34m)\u001b[0m\u001b[0;34m\u001b[0m\u001b[0;34m\u001b[0m\u001b[0m\n\u001b[0;32m----> 2\u001b[0;31m \u001b[0mprint\u001b[0m\u001b[0;34m(\u001b[0m\u001b[0municodedata\u001b[0m\u001b[0;34m.\u001b[0m\u001b[0mdecimal\u001b[0m\u001b[0;34m(\u001b[0m\u001b[0;34mu\"143\"\u001b[0m\u001b[0;34m)\u001b[0m\u001b[0;34m)\u001b[0m\u001b[0;34m\u001b[0m\u001b[0;34m\u001b[0m\u001b[0m\n\u001b[0m",
            "\u001b[0;31mTypeError\u001b[0m: decimal() argument 1 must be a unicode character, not str"
          ]
        }
      ]
    },
    {
      "cell_type": "markdown",
      "source": [
        "## unicodedata.category(chr)"
      ],
      "metadata": {
        "id": "kgTMtUirsU09"
      }
    },
    {
      "cell_type": "code",
      "source": [
        "print(unicodedata.category(u\"A\"))\n",
        "print(unicodedata.category(u\"b\"))"
      ],
      "metadata": {
        "colab": {
          "base_uri": "https://localhost:8080/"
        },
        "id": "HRMlMR2WrCKy",
        "outputId": "05f0e4cc-3337-420b-bb58-3a73fbb3f4c3"
      },
      "execution_count": 6,
      "outputs": [
        {
          "output_type": "stream",
          "name": "stdout",
          "text": [
            "Lu\n",
            "Ll\n"
          ]
        }
      ]
    },
    {
      "cell_type": "markdown",
      "source": [
        "## unicodedata.bidirectional(chr)\n"
      ],
      "metadata": {
        "id": "Nj8zsSbAslu8"
      }
    },
    {
      "cell_type": "code",
      "source": [
        "print(unicodedata.bidirectional(u\"\\u0660\"))"
      ],
      "metadata": {
        "colab": {
          "base_uri": "https://localhost:8080/"
        },
        "id": "ze6sJkKNrCOz",
        "outputId": "c62c4e36-631b-47c9-e462-4bea8da82f35"
      },
      "execution_count": 7,
      "outputs": [
        {
          "output_type": "stream",
          "name": "stdout",
          "text": [
            "AN\n"
          ]
        }
      ]
    },
    {
      "cell_type": "markdown",
      "source": [
        "## unicodedata.normalize(form, unistr)\n"
      ],
      "metadata": {
        "id": "7JBVeRzHs24-"
      }
    },
    {
      "cell_type": "code",
      "source": [
        "from unicodedata import normalize\n",
        "\n",
        "print(\"%r\" % normalize(\"NFD\", u\"\\u00C7\"))\n",
        "print(\"%r\" % normalize(\"NFC\", u\"C\\u0327\"))\n",
        "print(\"%r\" % normalize(\"NFKD\", u\"\\u2460\"))"
      ],
      "metadata": {
        "colab": {
          "base_uri": "https://localhost:8080/"
        },
        "id": "BPA1a3AxsvG1",
        "outputId": "97408fd5-90b3-4963-c3cc-31cea8fccd18"
      },
      "execution_count": 8,
      "outputs": [
        {
          "output_type": "stream",
          "name": "stdout",
          "text": [
            "'Ç'\n",
            "'Ç'\n",
            "'1'\n"
          ]
        }
      ]
    },
    {
      "cell_type": "code",
      "source": [
        ""
      ],
      "metadata": {
        "id": "4QYx68pvsvQh"
      },
      "execution_count": null,
      "outputs": []
    },
    {
      "cell_type": "markdown",
      "source": [
        ""
      ],
      "metadata": {
        "id": "zpSDf4SRq2ig"
      }
    },
    {
      "cell_type": "code",
      "source": [
        ""
      ],
      "metadata": {
        "id": "PGLpb29NqvoJ"
      },
      "execution_count": null,
      "outputs": []
    },
    {
      "cell_type": "code",
      "source": [
        ""
      ],
      "metadata": {
        "id": "PyDudwi9qdHG"
      },
      "execution_count": null,
      "outputs": []
    }
  ]
}